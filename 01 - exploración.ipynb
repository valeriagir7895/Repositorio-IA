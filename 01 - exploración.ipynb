{
 "cells": [
  {
   "cell_type": "markdown",
   "metadata": {},
   "source": [
    "ENTREGA 1 – [por publicar]\n",
    "\n",
    "Esta primera entrega sólo consta de dos archivos que han de estar en tu repositorio github:\n",
    "\n",
    "README.md con los nombres, cédulas y progama en el que está inscrito cada participante\n",
    "\n",
    "01 - exploración.ipynb donde se muestra cómo cargas el archivo train.csv de la competencia y muestras alguna exploración de datos (por ejemplo, cuantos estudiantes hay de cada clase, por localidades, etc.). Esta exploración no tiene que ser exhaustiva, tan sólo que muestres que eres capaz de cargar los datos e inspeccionarlos."
   ]
  },
  {
   "cell_type": "markdown",
   "metadata": {
    "id": "kx8wBSKdTh8H"
   },
   "source": [
    "# Cargar Librerias:"
   ]
  },
  {
   "cell_type": "code",
   "execution_count": 1,
   "metadata": {
    "id": "czmNSVhvDKIe"
   },
   "outputs": [],
   "source": [
    "import numpy as np\n",
    "import pandas as pd\n",
    "import os"
   ]
  },
  {
   "cell_type": "markdown",
   "metadata": {
    "id": "8OZxwQhgUGAn"
   },
   "source": [
    "## Cargar DataFrame desde Kaggle"
   ]
  },
  {
   "cell_type": "code",
   "execution_count": 18,
   "metadata": {
    "colab": {
     "base_uri": "https://localhost:8080/"
    },
    "executionInfo": {
     "elapsed": 6099,
     "status": "ok",
     "timestamp": 1714081065001,
     "user": {
      "displayName": "DANIEL MUÑOZ MEJÍA",
      "userId": "06196159695931642978"
     },
     "user_tz": 300
    },
    "id": "C-MJcsWcNkbV",
    "outputId": "363b692c-b0fa-42e0-b289-34289348ab25"
   },
   "outputs": [],
   "source": [
    "os.environ[\"KAGGLE_CONFIG_DIR\"] = \".\"\n",
    "# !kaggle competitions download -c udea-ai-4-eng-20251-pruebas-saber-pro-colombia\n",
    "df = pd.read_csv(\"train.csv\") #Para cargar los datos si se cargaron desde Kaggle"
   ]
  },
  {
   "cell_type": "markdown",
   "metadata": {
    "id": "4xVfzHkEeVzu"
   },
   "source": [
    "#*Exploracion de datos*"
   ]
  },
  {
   "cell_type": "code",
   "execution_count": 19,
   "metadata": {
    "colab": {
     "base_uri": "https://localhost:8080/"
    },
    "executionInfo": {
     "elapsed": 209,
     "status": "ok",
     "timestamp": 1714081069470,
     "user": {
      "displayName": "DANIEL MUÑOZ MEJÍA",
      "userId": "06196159695931642978"
     },
     "user_tz": 300
    },
    "id": "qUGrWSE0HKcN",
    "outputId": "e7171003-fa6b-4c49-a2b2-4a8de77f8cf1"
   },
   "outputs": [
    {
     "name": "stdout",
     "output_type": "stream",
     "text": [
      "Información del indice del dataframe: RangeIndex(start=0, stop=692500, step=1, name='Index') \n",
      "\n",
      "Index(['ID', 'PERIODO', 'ESTU_PRGM_ACADEMICO', 'ESTU_PRGM_DEPARTAMENTO',\n",
      "       'ESTU_VALORMATRICULAUNIVERSIDAD', 'ESTU_HORASSEMANATRABAJA',\n",
      "       'FAMI_ESTRATOVIVIENDA', 'FAMI_TIENEINTERNET', 'FAMI_EDUCACIONPADRE',\n",
      "       'FAMI_TIENELAVADORA', 'FAMI_TIENEAUTOMOVIL', 'ESTU_PRIVADO_LIBERTAD',\n",
      "       'ESTU_PAGOMATRICULAPROPIO', 'FAMI_TIENECOMPUTADOR',\n",
      "       'FAMI_TIENEINTERNET.1', 'FAMI_EDUCACIONMADRE', 'RENDIMIENTO_GLOBAL',\n",
      "       'coef_1', 'coef_2', 'coef_3', 'coef_4'],\n",
      "      dtype='object')\n"
     ]
    }
   ],
   "source": [
    "# Se agrega index para tener referencia numerica de los datos\n",
    "df.index.name = \"Index\"\n",
    "print(f\"Información del indice del dataframe: {df.index} \\n\")\n",
    "#se muestra cuales son las columnas del dataframe\n",
    "print(df.columns)"
   ]
  },
  {
   "cell_type": "code",
   "execution_count": 20,
   "metadata": {
    "colab": {
     "base_uri": "https://localhost:8080/"
    },
    "executionInfo": {
     "elapsed": 267,
     "status": "ok",
     "timestamp": 1714081071610,
     "user": {
      "displayName": "DANIEL MUÑOZ MEJÍA",
      "userId": "06196159695931642978"
     },
     "user_tz": 300
    },
    "id": "lcGP250PQioi",
    "outputId": "8d46247a-a92e-40f1-9117-4f421f8f7806"
   },
   "outputs": [
    {
     "name": "stdout",
     "output_type": "stream",
     "text": [
      "           ID  PERIODO         ESTU_PRGM_ACADEMICO ESTU_PRGM_DEPARTAMENTO  \\\n",
      "Index                                                                       \n",
      "0      904256    20212                  ENFERMERIA                 BOGOTÁ   \n",
      "1      645256    20212                     DERECHO              ATLANTICO   \n",
      "2      308367    20203       MERCADEO Y PUBLICIDAD                 BOGOTÁ   \n",
      "3      470353    20195  ADMINISTRACION DE EMPRESAS              SANTANDER   \n",
      "4      989032    20212                  PSICOLOGIA              ANTIOQUIA   \n",
      "\n",
      "                 ESTU_VALORMATRICULAUNIVERSIDAD ESTU_HORASSEMANATRABAJA  \\\n",
      "Index                                                                     \n",
      "0      Entre 5.5 millones y menos de 7 millones       Menos de 10 horas   \n",
      "1      Entre 2.5 millones y menos de 4 millones                       0   \n",
      "2      Entre 2.5 millones y menos de 4 millones         Más de 30 horas   \n",
      "3      Entre 4 millones y menos de 5.5 millones                       0   \n",
      "4      Entre 2.5 millones y menos de 4 millones     Entre 21 y 30 horas   \n",
      "\n",
      "      FAMI_ESTRATOVIVIENDA FAMI_TIENEINTERNET  \\\n",
      "Index                                           \n",
      "0                Estrato 3                 Si   \n",
      "1                Estrato 3                 No   \n",
      "2                Estrato 3                 Si   \n",
      "3                Estrato 4                 Si   \n",
      "4                Estrato 3                 Si   \n",
      "\n",
      "                      FAMI_EDUCACIONPADRE FAMI_TIENELAVADORA  ...  \\\n",
      "Index                                                         ...   \n",
      "0        Técnica o tecnológica incompleta                 Si  ...   \n",
      "1          Técnica o tecnológica completa                 Si  ...   \n",
      "2      Secundaria (Bachillerato) completa                 Si  ...   \n",
      "3                                 No sabe                 Si  ...   \n",
      "4                       Primaria completa                 Si  ...   \n",
      "\n",
      "      ESTU_PRIVADO_LIBERTAD ESTU_PAGOMATRICULAPROPIO FAMI_TIENECOMPUTADOR  \\\n",
      "Index                                                                       \n",
      "0                         N                       No                   Si   \n",
      "1                         N                       No                   Si   \n",
      "2                         N                       No                   No   \n",
      "3                         N                       No                   Si   \n",
      "4                         N                       No                   Si   \n",
      "\n",
      "      FAMI_TIENEINTERNET.1                 FAMI_EDUCACIONMADRE  \\\n",
      "Index                                                            \n",
      "0                       Si                           Postgrado   \n",
      "1                       No    Técnica o tecnológica incompleta   \n",
      "2                       Si  Secundaria (Bachillerato) completa   \n",
      "3                       Si  Secundaria (Bachillerato) completa   \n",
      "4                       Si                   Primaria completa   \n",
      "\n",
      "      RENDIMIENTO_GLOBAL coef_1  coef_2  coef_3  coef_4  \n",
      "Index                                                    \n",
      "0             medio-alto  0.322   0.208   0.310   0.267  \n",
      "1                   bajo  0.311   0.215   0.292   0.264  \n",
      "2                   bajo  0.297   0.214   0.305   0.264  \n",
      "3                   alto  0.485   0.172   0.252   0.190  \n",
      "4             medio-bajo  0.316   0.232   0.285   0.294  \n",
      "\n",
      "[5 rows x 21 columns]\n"
     ]
    }
   ],
   "source": [
    "print(df.head()) #Muestra los primeros datos de cada columna"
   ]
  },
  {
   "cell_type": "code",
   "execution_count": 21,
   "metadata": {
    "colab": {
     "base_uri": "https://localhost:8080/",
     "height": 499
    },
    "executionInfo": {
     "elapsed": 225,
     "status": "error",
     "timestamp": 1714081072809,
     "user": {
      "displayName": "DANIEL MUÑOZ MEJÍA",
      "userId": "06196159695931642978"
     },
     "user_tz": 300
    },
    "id": "O4tNtzkuP4MW",
    "outputId": "f685a9f2-1660-4fcb-890e-e165ff5389fc"
   },
   "outputs": [
    {
     "name": "stdout",
     "output_type": "stream",
     "text": [
      "ESTU_PRGM_ACADEMICO\n",
      "DERECHO                                                   53244\n",
      "ADMINISTRACION DE EMPRESAS                                51902\n",
      "CONTADURIA PUBLICA                                        39664\n",
      "PSICOLOGIA                                                31932\n",
      "INGENIERIA INDUSTRIAL                                     28481\n",
      "                                                          ...  \n",
      "DEPORTE Y ACTIVIDADA FISICA                                   1\n",
      "QUIMICA Y FARMACIA                                            1\n",
      "LICENCIATURA EN EDUCACON FISICA, RECREACION Y DEPORTES        1\n",
      "COMUNICACIÓN SOCIAL Y PERIODISMO                              1\n",
      "PROFESIONAL EN INVESTIGACIÓN CRIMINAL                         1\n",
      "Name: count, Length: 948, dtype: int64\n"
     ]
    }
   ],
   "source": [
    "# Muestra un conteo de los valores únicos en la columna 'ESTU_PRGM_ACADEMICO' y cuantos hay por cada uno de ellos\n",
    "print(df['ESTU_PRGM_ACADEMICO'].value_counts())"
   ]
  },
  {
   "cell_type": "code",
   "execution_count": 22,
   "metadata": {
    "colab": {
     "base_uri": "https://localhost:8080/"
    },
    "executionInfo": {
     "elapsed": 298,
     "status": "ok",
     "timestamp": 1711235274522,
     "user": {
      "displayName": "CRISTIAN FLOREZ CALDERON",
      "userId": "14203897282492324183"
     },
     "user_tz": 300
    },
    "id": "dzGVyK32kgcU",
    "outputId": "1ea3f5b2-865b-4134-d860-6c3e35139f72"
   },
   "outputs": [
    {
     "name": "stdout",
     "output_type": "stream",
     "text": [
      "            ID  PERIODO                                ESTU_PRGM_ACADEMICO  \\\n",
      "Index                                                                        \n",
      "0       904256    20212                                         ENFERMERIA   \n",
      "1       645256    20212                                            DERECHO   \n",
      "2       308367    20203                              MERCADEO Y PUBLICIDAD   \n",
      "4       989032    20212                                         PSICOLOGIA   \n",
      "12      858669    20183                                HOTELERIA Y TURISMO   \n",
      "...        ...      ...                                                ...   \n",
      "692485  945114    20195                         ADMINISTRACIÓN DE EMPRESAS   \n",
      "692489  481885    20195                              INGENIERIA INDUSTRIAL   \n",
      "692494  649690    20212  LICENCIATURA EN EDUCACION BASICA CON ENFASIS E...   \n",
      "692496  754213    20212                                         PSICOLOGIA   \n",
      "692497  504185    20183                ADMINISTRACIÓN EN SALUD OCUPACIONAL   \n",
      "\n",
      "       ESTU_PRGM_DEPARTAMENTO            ESTU_VALORMATRICULAUNIVERSIDAD  \\\n",
      "Index                                                                     \n",
      "0                      BOGOTÁ  Entre 5.5 millones y menos de 7 millones   \n",
      "1                   ATLANTICO  Entre 2.5 millones y menos de 4 millones   \n",
      "2                      BOGOTÁ  Entre 2.5 millones y menos de 4 millones   \n",
      "4                   ANTIOQUIA  Entre 2.5 millones y menos de 4 millones   \n",
      "12                     BOGOTÁ  Entre 2.5 millones y menos de 4 millones   \n",
      "...                       ...                                       ...   \n",
      "692485                 BOGOTÁ    Entre 1 millón y menos de 2.5 millones   \n",
      "692489                  VALLE  Entre 4 millones y menos de 5.5 millones   \n",
      "692494        NORTE SANTANDER                          Menos de 500 mil   \n",
      "692496        NORTE SANTANDER  Entre 2.5 millones y menos de 4 millones   \n",
      "692497                 BOGOTÁ    Entre 1 millón y menos de 2.5 millones   \n",
      "\n",
      "       ESTU_HORASSEMANATRABAJA FAMI_ESTRATOVIVIENDA FAMI_TIENEINTERNET  \\\n",
      "Index                                                                    \n",
      "0            Menos de 10 horas            Estrato 3                 Si   \n",
      "1                            0            Estrato 3                 No   \n",
      "2              Más de 30 horas            Estrato 3                 Si   \n",
      "4          Entre 21 y 30 horas            Estrato 3                 Si   \n",
      "12             Más de 30 horas            Estrato 3                 Si   \n",
      "...                        ...                  ...                ...   \n",
      "692485         Más de 30 horas            Estrato 3                 Si   \n",
      "692489         Más de 30 horas            Estrato 3                 Si   \n",
      "692494     Entre 21 y 30 horas            Estrato 3                 Si   \n",
      "692496         Más de 30 horas            Estrato 3                 Si   \n",
      "692497       Menos de 10 horas            Estrato 3                 Si   \n",
      "\n",
      "                         FAMI_EDUCACIONPADRE FAMI_TIENELAVADORA  ...  \\\n",
      "Index                                                            ...   \n",
      "0           Técnica o tecnológica incompleta                 Si  ...   \n",
      "1             Técnica o tecnológica completa                 Si  ...   \n",
      "2         Secundaria (Bachillerato) completa                 Si  ...   \n",
      "4                          Primaria completa                 Si  ...   \n",
      "12        Secundaria (Bachillerato) completa                 Si  ...   \n",
      "...                                      ...                ...  ...   \n",
      "692485                   Primaria incompleta                 Si  ...   \n",
      "692489    Secundaria (Bachillerato) completa                 Si  ...   \n",
      "692494  Secundaria (Bachillerato) incompleta                 Si  ...   \n",
      "692496                   Primaria incompleta                 Si  ...   \n",
      "692497    Secundaria (Bachillerato) completa                 Si  ...   \n",
      "\n",
      "       ESTU_PRIVADO_LIBERTAD ESTU_PAGOMATRICULAPROPIO FAMI_TIENECOMPUTADOR  \\\n",
      "Index                                                                        \n",
      "0                          N                       No                   Si   \n",
      "1                          N                       No                   Si   \n",
      "2                          N                       No                   No   \n",
      "4                          N                       No                   Si   \n",
      "12                         N                       No                   Si   \n",
      "...                      ...                      ...                  ...   \n",
      "692485                     N                       Si                   Si   \n",
      "692489                     N                       No                   No   \n",
      "692494                     N                       Si                   Si   \n",
      "692496                     N                       No                   Si   \n",
      "692497                     N                       Si                   Si   \n",
      "\n",
      "       FAMI_TIENEINTERNET.1                   FAMI_EDUCACIONMADRE  \\\n",
      "Index                                                               \n",
      "0                        Si                             Postgrado   \n",
      "1                        No      Técnica o tecnológica incompleta   \n",
      "2                        Si    Secundaria (Bachillerato) completa   \n",
      "4                        Si                     Primaria completa   \n",
      "12                       Si                     Primaria completa   \n",
      "...                     ...                                   ...   \n",
      "692485                   Si                   Primaria incompleta   \n",
      "692489                   Si        Técnica o tecnológica completa   \n",
      "692494                   Si    Secundaria (Bachillerato) completa   \n",
      "692496                   Si  Secundaria (Bachillerato) incompleta   \n",
      "692497                   Si  Secundaria (Bachillerato) incompleta   \n",
      "\n",
      "       RENDIMIENTO_GLOBAL coef_1  coef_2  coef_3  coef_4  \n",
      "Index                                                     \n",
      "0              medio-alto  0.322   0.208   0.310   0.267  \n",
      "1                    bajo  0.311   0.215   0.292   0.264  \n",
      "2                    bajo  0.297   0.214   0.305   0.264  \n",
      "4              medio-bajo  0.316   0.232   0.285   0.294  \n",
      "12             medio-bajo  0.285   0.249   0.278   0.289  \n",
      "...                   ...    ...     ...     ...     ...  \n",
      "692485         medio-bajo  0.328   0.248   0.291   0.252  \n",
      "692489         medio-bajo  0.311   0.235   0.288   0.284  \n",
      "692494               bajo  0.312   0.209   0.290   0.265  \n",
      "692496               bajo  0.314   0.240   0.278   0.260  \n",
      "692497         medio-bajo  0.286   0.240   0.314   0.287  \n",
      "\n",
      "[210685 rows x 21 columns]\n"
     ]
    }
   ],
   "source": [
    "#crea un nuevo dataframe con solo la informacion de los que cumplan con el estrato filtrado\n",
    "df_estrato = df.loc[df['FAMI_ESTRATOVIVIENDA'] == \"Estrato 3\"]\n",
    "print(df_estrato)"
   ]
  },
  {
   "cell_type": "code",
   "execution_count": 23,
   "metadata": {
    "colab": {
     "base_uri": "https://localhost:8080/"
    },
    "executionInfo": {
     "elapsed": 226,
     "status": "ok",
     "timestamp": 1711235281468,
     "user": {
      "displayName": "CRISTIAN FLOREZ CALDERON",
      "userId": "14203897282492324183"
     },
     "user_tz": 300
    },
    "id": "GqrFH0vZQhLa",
    "outputId": "1b1d7162-2b92-4b60-de8a-9b021da283c5"
   },
   "outputs": [
    {
     "name": "stdout",
     "output_type": "stream",
     "text": [
      "            ID  PERIODO RENDIMIENTO_GLOBAL\n",
      "Index                                     \n",
      "0       904256    20212         medio-alto\n",
      "1       645256    20212               bajo\n",
      "2       308367    20203               bajo\n",
      "3       470353    20195               alto\n",
      "4       989032    20212         medio-bajo\n",
      "...        ...      ...                ...\n",
      "692495   25096    20195         medio-alto\n",
      "692496  754213    20212               bajo\n",
      "692497  504185    20183         medio-bajo\n",
      "692498  986620    20195               bajo\n",
      "692499  933374    20195               alto\n",
      "\n",
      "[692500 rows x 3 columns]\n"
     ]
    }
   ],
   "source": [
    "df2 = df[[\"ID\", \"PERIODO\", \"RENDIMIENTO_GLOBAL\"]] #crea un nuevo dataframe con solo las columnas especificadas\n",
    "print(df2)"
   ]
  },
  {
   "cell_type": "code",
   "execution_count": 24,
   "metadata": {
    "colab": {
     "base_uri": "https://localhost:8080/"
    },
    "executionInfo": {
     "elapsed": 193,
     "status": "ok",
     "timestamp": 1711235368986,
     "user": {
      "displayName": "CRISTIAN FLOREZ CALDERON",
      "userId": "14203897282492324183"
     },
     "user_tz": 300
    },
    "id": "EapU9x67OmPD",
    "outputId": "6d5c797e-a575-4747-85a7-a8b111fccfd3"
   },
   "outputs": [
    {
     "name": "stdout",
     "output_type": "stream",
     "text": [
      "            ID  PERIODO         ESTU_PRGM_ACADEMICO ESTU_PRGM_DEPARTAMENTO  \\\n",
      "Index                                                                        \n",
      "3       470353    20195  ADMINISTRACION DE EMPRESAS              SANTANDER   \n",
      "45       10412    20203                 ODONTOLOGIA              SANTANDER   \n",
      "106     780362    20203       INGENIERIA INDUSTRIAL              SANTANDER   \n",
      "154     927315    20212          CONTADURIA PUBLICA              SANTANDER   \n",
      "167     783913    20203                 ODONTOLOGIA              SANTANDER   \n",
      "...        ...      ...                         ...                    ...   \n",
      "692441  746267    20212    NEGOCIOS INTERNACIONALES              SANTANDER   \n",
      "692446  159035    20183  ADMINISTRACION DE EMPRESAS              SANTANDER   \n",
      "692475  598951    20212         ARTES AUDIOVISUALES              SANTANDER   \n",
      "692478   92695    20212       INGENIERIA  AMBIENTAL              SANTANDER   \n",
      "692480  928089    20183         GESTION EMPRESARIAL              SANTANDER   \n",
      "\n",
      "                  ESTU_VALORMATRICULAUNIVERSIDAD ESTU_HORASSEMANATRABAJA  \\\n",
      "Index                                                                      \n",
      "3       Entre 4 millones y menos de 5.5 millones                       0   \n",
      "45      Entre 5.5 millones y menos de 7 millones         Más de 30 horas   \n",
      "106                             Menos de 500 mil       Menos de 10 horas   \n",
      "154     Entre 4 millones y menos de 5.5 millones                       0   \n",
      "167     Entre 5.5 millones y menos de 7 millones                       0   \n",
      "...                                          ...                     ...   \n",
      "692441  Entre 4 millones y menos de 5.5 millones     Entre 11 y 20 horas   \n",
      "692446    Entre 1 millón y menos de 2.5 millones       Menos de 10 horas   \n",
      "692475  Entre 5.5 millones y menos de 7 millones                       0   \n",
      "692478  Entre 4 millones y menos de 5.5 millones       Menos de 10 horas   \n",
      "692480    Entre 1 millón y menos de 2.5 millones     Entre 21 y 30 horas   \n",
      "\n",
      "       FAMI_ESTRATOVIVIENDA FAMI_TIENEINTERNET  \\\n",
      "Index                                            \n",
      "3                 Estrato 4                 Si   \n",
      "45                Estrato 3                 Si   \n",
      "106               Estrato 3                 Si   \n",
      "154               Estrato 6                 Si   \n",
      "167               Estrato 3                 Si   \n",
      "...                     ...                ...   \n",
      "692441            Estrato 2                 Si   \n",
      "692446            Estrato 3                 Si   \n",
      "692475            Estrato 6                 Si   \n",
      "692478            Estrato 3                 Si   \n",
      "692480            Estrato 3                 Si   \n",
      "\n",
      "                       FAMI_EDUCACIONPADRE FAMI_TIENELAVADORA  ...  \\\n",
      "Index                                                          ...   \n",
      "3                                  No sabe                 Si  ...   \n",
      "45          Educación profesional completa                 Si  ...   \n",
      "106     Secundaria (Bachillerato) completa                 Si  ...   \n",
      "154                              Postgrado                 Si  ...   \n",
      "167         Educación profesional completa                 Si  ...   \n",
      "...                                    ...                ...  ...   \n",
      "692441    Educación profesional incompleta                 Si  ...   \n",
      "692446                   Primaria completa                 Si  ...   \n",
      "692475      Educación profesional completa                 Si  ...   \n",
      "692478      Educación profesional completa                 Si  ...   \n",
      "692480  Secundaria (Bachillerato) completa                 Si  ...   \n",
      "\n",
      "       ESTU_PRIVADO_LIBERTAD ESTU_PAGOMATRICULAPROPIO FAMI_TIENECOMPUTADOR  \\\n",
      "Index                                                                        \n",
      "3                          N                       No                   Si   \n",
      "45                         N                       No                   Si   \n",
      "106                        N                       No                   Si   \n",
      "154                        N                       No                   Si   \n",
      "167                        N                       No                   Si   \n",
      "...                      ...                      ...                  ...   \n",
      "692441                     N                       Si                   No   \n",
      "692446                     N                       Si                   Si   \n",
      "692475                     N                       No                   Si   \n",
      "692478                     N                       No                   Si   \n",
      "692480                     N                       Si                   Si   \n",
      "\n",
      "       FAMI_TIENEINTERNET.1                 FAMI_EDUCACIONMADRE  \\\n",
      "Index                                                             \n",
      "3                        Si  Secundaria (Bachillerato) completa   \n",
      "45                       Si      Educación profesional completa   \n",
      "106                      Si  Secundaria (Bachillerato) completa   \n",
      "154                      Si      Educación profesional completa   \n",
      "167                      Si                           Postgrado   \n",
      "...                     ...                                 ...   \n",
      "692441                   Si  Secundaria (Bachillerato) completa   \n",
      "692446                   Si                   Primaria completa   \n",
      "692475                   Si    Educación profesional incompleta   \n",
      "692478                   Si      Técnica o tecnológica completa   \n",
      "692480                   Si      Educación profesional completa   \n",
      "\n",
      "       RENDIMIENTO_GLOBAL coef_1  coef_2  coef_3  coef_4  \n",
      "Index                                                     \n",
      "3                    alto  0.485   0.172   0.252   0.190  \n",
      "45             medio-alto  0.294   0.206   0.272   0.253  \n",
      "106            medio-alto  0.300   0.248   0.308   0.284  \n",
      "154                  alto  0.631   0.105   0.211   0.146  \n",
      "167                  alto  0.302   0.250   0.276   0.284  \n",
      "...                   ...    ...     ...     ...     ...  \n",
      "692441         medio-bajo  0.201   0.320   0.300   0.279  \n",
      "692446               bajo  0.298   0.235   0.292   0.284  \n",
      "692475         medio-bajo  0.656   0.124   0.187   0.125  \n",
      "692478         medio-bajo  0.307   0.227   0.298   0.262  \n",
      "692480               alto  0.288   0.228   0.313   0.266  \n",
      "\n",
      "[28828 rows x 21 columns]\n"
     ]
    }
   ],
   "source": [
    "df3 = df[df[\"ESTU_PRGM_DEPARTAMENTO\"]==\"SANTANDER\"] #crea un nuevo dataframe con solo los indices que cumplan con estudiar un programa en el departamento SANTANDER\n",
    "print(df3)"
   ]
  },
  {
   "cell_type": "code",
   "execution_count": 25,
   "metadata": {
    "colab": {
     "base_uri": "https://localhost:8080/"
    },
    "executionInfo": {
     "elapsed": 224,
     "status": "ok",
     "timestamp": 1711235439591,
     "user": {
      "displayName": "CRISTIAN FLOREZ CALDERON",
      "userId": "14203897282492324183"
     },
     "user_tz": 300
    },
    "id": "AmDG8TZtk96z",
    "outputId": "cacad2b1-f387-4f7f-cd6e-fa9edb21c3fb"
   },
   "outputs": [
    {
     "name": "stdout",
     "output_type": "stream",
     "text": [
      "         ID  PERIODO                   ESTU_PRGM_ACADEMICO  \\\n",
      "Index                                                        \n",
      "1033    644    20183                               DERECHO   \n",
      "1664    256    20183                              ECONOMIA   \n",
      "2973    517    20183                        DISEÑO GRAFICO   \n",
      "4529    199    20183                 NUTRICION Y DIETETICA   \n",
      "4907    774    20183  LICENCIATURA EN EDUCACION PREESCOLAR   \n",
      "...     ...      ...                                   ...   \n",
      "689932   41    20183            ADMINISTRACION DE EMPRESAS   \n",
      "689945  968    20195  LICENCIATURA EN ESPAÑOL Y LITERATURA   \n",
      "690160  184    20183            ADMINISTRACION DE EMPRESAS   \n",
      "691182  362    20183                          FISIOTERAPIA   \n",
      "692098  534    20183                              MEDICINA   \n",
      "\n",
      "       ESTU_PRGM_DEPARTAMENTO            ESTU_VALORMATRICULAUNIVERSIDAD  \\\n",
      "Index                                                                     \n",
      "1033                   BOGOTÁ                         Más de 7 millones   \n",
      "1664                   BOGOTÁ  Entre 2.5 millones y menos de 4 millones   \n",
      "2973                   BOYACA  Entre 5.5 millones y menos de 7 millones   \n",
      "4529                   BOGOTÁ         Entre 500 mil y menos de 1 millón   \n",
      "4907                   BOYACA    Entre 1 millón y menos de 2.5 millones   \n",
      "...                       ...                                       ...   \n",
      "689932                CORDOBA         Entre 500 mil y menos de 1 millón   \n",
      "689945              RISARALDA                          Menos de 500 mil   \n",
      "690160                  VALLE    Entre 1 millón y menos de 2.5 millones   \n",
      "691182              ANTIOQUIA  Entre 4 millones y menos de 5.5 millones   \n",
      "692098                  VALLE                         Más de 7 millones   \n",
      "\n",
      "       ESTU_HORASSEMANATRABAJA FAMI_ESTRATOVIVIENDA FAMI_TIENEINTERNET  \\\n",
      "Index                                                                    \n",
      "1033                         0            Estrato 4                 Si   \n",
      "1664       Entre 21 y 30 horas            Estrato 4                 Si   \n",
      "2973           Más de 30 horas            Estrato 4                 Si   \n",
      "4529                       NaN                  NaN                NaN   \n",
      "4907         Menos de 10 horas            Estrato 2                 Si   \n",
      "...                        ...                  ...                ...   \n",
      "689932         Más de 30 horas            Estrato 1                 No   \n",
      "689945     Entre 21 y 30 horas            Estrato 2                 Si   \n",
      "690160         Más de 30 horas            Estrato 3                 Si   \n",
      "691182                       0            Estrato 2                 Si   \n",
      "692098                       0            Estrato 4                 Si   \n",
      "\n",
      "                         FAMI_EDUCACIONPADRE FAMI_TIENELAVADORA  ...  \\\n",
      "Index                                                            ...   \n",
      "1033          Técnica o tecnológica completa                 Si  ...   \n",
      "1664          Técnica o tecnológica completa                 Si  ...   \n",
      "2973        Educación profesional incompleta                 Si  ...   \n",
      "4529                                     NaN                NaN  ...   \n",
      "4907          Educación profesional completa                 Si  ...   \n",
      "...                                      ...                ...  ...   \n",
      "689932                               Ninguno                 Si  ...   \n",
      "689945                               Ninguno                 Si  ...   \n",
      "690160                     Primaria completa                 Si  ...   \n",
      "691182    Secundaria (Bachillerato) completa                 Si  ...   \n",
      "692098  Secundaria (Bachillerato) incompleta                 Si  ...   \n",
      "\n",
      "       ESTU_PRIVADO_LIBERTAD ESTU_PAGOMATRICULAPROPIO FAMI_TIENECOMPUTADOR  \\\n",
      "Index                                                                        \n",
      "1033                       N                       No                   Si   \n",
      "1664                       N                       Si                   Si   \n",
      "2973                       N                       No                   Si   \n",
      "4529                       N                       No                  NaN   \n",
      "4907                       N                       No                   Si   \n",
      "...                      ...                      ...                  ...   \n",
      "689932                     N                       No                   Si   \n",
      "689945                     N                       Si                   Si   \n",
      "690160                     N                       Si                   Si   \n",
      "691182                     N                       No                   Si   \n",
      "692098                     N                       No                   Si   \n",
      "\n",
      "       FAMI_TIENEINTERNET.1                   FAMI_EDUCACIONMADRE  \\\n",
      "Index                                                               \n",
      "1033                     Si                             Postgrado   \n",
      "1664                     Si        Educación profesional completa   \n",
      "2973                     Si        Educación profesional completa   \n",
      "4529                    NaN                                   NaN   \n",
      "4907                     Si                             Postgrado   \n",
      "...                     ...                                   ...   \n",
      "689932                   No                               Ninguno   \n",
      "689945                   Si                               Ninguno   \n",
      "690160                   Si    Secundaria (Bachillerato) completa   \n",
      "691182                   Si  Secundaria (Bachillerato) incompleta   \n",
      "692098                   Si  Secundaria (Bachillerato) incompleta   \n",
      "\n",
      "       RENDIMIENTO_GLOBAL coef_1  coef_2  coef_3  coef_4  \n",
      "Index                                                     \n",
      "1033                 alto  0.437   0.157   0.283   0.225  \n",
      "1664                 alto  0.475   0.186   0.293   0.189  \n",
      "2973                 bajo  0.438   0.161   0.271   0.221  \n",
      "4529                 alto  0.022   0.007   0.005   0.017  \n",
      "4907           medio-bajo  0.207   0.309   0.291   0.304  \n",
      "...                   ...    ...     ...     ...     ...  \n",
      "689932               bajo  0.143   0.402   0.228   0.314  \n",
      "689945               bajo  0.224   0.288   0.272   0.320  \n",
      "690160               alto  0.329   0.247   0.295   0.289  \n",
      "691182               bajo  0.219   0.305   0.297   0.320  \n",
      "692098               alto  0.477   0.184   0.286   0.218  \n",
      "\n",
      "[694 rows x 21 columns]\n"
     ]
    }
   ],
   "source": [
    "df4 = df[df[\"ID\"] < 1000] #crea un nuevo dataframe con solo los indices que cumplan con que su ID sea menor a 1000\n",
    "print(df4)"
   ]
  },
  {
   "cell_type": "code",
   "execution_count": 26,
   "metadata": {
    "colab": {
     "base_uri": "https://localhost:8080/"
    },
    "executionInfo": {
     "elapsed": 210,
     "status": "ok",
     "timestamp": 1711235518143,
     "user": {
      "displayName": "CRISTIAN FLOREZ CALDERON",
      "userId": "14203897282492324183"
     },
     "user_tz": 300
    },
    "id": "4RkHvy6zyJJ4",
    "outputId": "9d9ab9e8-75d9-48f1-94cc-04dee2e0ffe4"
   },
   "outputs": [
    {
     "name": "stdout",
     "output_type": "stream",
     "text": [
      "bajo\n"
     ]
    }
   ],
   "source": [
    "print(df.loc[2,\"RENDIMIENTO_GLOBAL\"])#toma un valor especifico de la columna asignada, en este caso el valor 2 de la columna RENDIMIENTO_GLOBAL"
   ]
  },
  {
   "cell_type": "code",
   "execution_count": 27,
   "metadata": {
    "colab": {
     "base_uri": "https://localhost:8080/"
    },
    "executionInfo": {
     "elapsed": 195,
     "status": "ok",
     "timestamp": 1711238454621,
     "user": {
      "displayName": "CRISTIAN FLOREZ CALDERON",
      "userId": "14203897282492324183"
     },
     "user_tz": 300
    },
    "id": "J6rQbP-gwfEJ",
    "outputId": "92ee3f7c-9e00-4ae3-99a1-83f0f124d984"
   },
   "outputs": [
    {
     "data": {
      "text/plain": [
       "['ID',\n",
       " 'PERIODO',\n",
       " 'ESTU_PRGM_ACADEMICO',\n",
       " 'ESTU_PRGM_DEPARTAMENTO',\n",
       " 'ESTU_VALORMATRICULAUNIVERSIDAD',\n",
       " 'ESTU_HORASSEMANATRABAJA',\n",
       " 'FAMI_ESTRATOVIVIENDA',\n",
       " 'FAMI_TIENEINTERNET',\n",
       " 'FAMI_EDUCACIONPADRE',\n",
       " 'FAMI_TIENELAVADORA',\n",
       " 'FAMI_TIENEAUTOMOVIL',\n",
       " 'ESTU_PRIVADO_LIBERTAD',\n",
       " 'ESTU_PAGOMATRICULAPROPIO',\n",
       " 'FAMI_TIENECOMPUTADOR',\n",
       " 'FAMI_TIENEINTERNET.1',\n",
       " 'FAMI_EDUCACIONMADRE',\n",
       " 'RENDIMIENTO_GLOBAL',\n",
       " 'coef_1',\n",
       " 'coef_2',\n",
       " 'coef_3',\n",
       " 'coef_4']"
      ]
     },
     "execution_count": 27,
     "metadata": {},
     "output_type": "execute_result"
    }
   ],
   "source": [
    "df.columns.to_list() \t\t#para que todo quede en lista"
   ]
  }
 ],
 "metadata": {
  "colab": {
   "provenance": []
  },
  "kernelspec": {
   "display_name": "Python 3",
   "name": "python3"
  },
  "language_info": {
   "codemirror_mode": {
    "name": "ipython",
    "version": 3
   },
   "file_extension": ".py",
   "mimetype": "text/x-python",
   "name": "python",
   "nbconvert_exporter": "python",
   "pygments_lexer": "ipython3",
   "version": "3.13.2"
  }
 },
 "nbformat": 4,
 "nbformat_minor": 0
}
