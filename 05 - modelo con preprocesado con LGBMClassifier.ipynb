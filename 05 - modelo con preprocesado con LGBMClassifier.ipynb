{
 "cells": [
  {
   "cell_type": "markdown",
   "metadata": {},
   "source": [
    "  # Integrantes del equipo:\n",
    "- Juan Camilo Carvajal Sierra - 1010124738 - Bioingeniería\n",
    "- Valeria Giraldo Agudelo - 1007577551 - Bioingeniería\n",
    "- Mauro Andres Alegria Cano - 1002972153 - Bioingeniería"
   ]
  },
  {
   "cell_type": "markdown",
   "metadata": {
    "id": "CMy12IglmkXy"
   },
   "source": [
    "##Importación de librerias"
   ]
  },
  {
   "cell_type": "code",
   "execution_count": 1,
   "metadata": {
    "id": "HN5w_BpT52T1"
   },
   "outputs": [],
   "source": [
    "import numpy as np\n",
    "import pandas as pd\n",
    "import os\n",
    "import re\n",
    "import unicodedata\n",
    "from lightgbm import LGBMClassifier\n",
    "from sklearn.metrics import accuracy_score"
   ]
  },
  {
   "cell_type": "markdown",
   "metadata": {
    "id": "8WJV63vJm03W"
   },
   "source": [
    "##Descarga de archivos desde Kaggle"
   ]
  },
  {
   "cell_type": "code",
   "execution_count": 2,
   "metadata": {
    "colab": {
     "base_uri": "https://localhost:8080/",
     "height": 452
    },
    "executionInfo": {
     "elapsed": 17458,
     "status": "ok",
     "timestamp": 1717257528989,
     "user": {
      "displayName": "CRISTIAN FLOREZ CALDERON",
      "userId": "14203897282492324183"
     },
     "user_tz": 300
    },
    "id": "SSjxv_6x545W",
    "outputId": "d27f8918-3a48-4c14-fad6-8780fb1bb1a4"
   },
   "outputs": [
    {
     "data": {
      "text/html": [
       "<div>\n",
       "<style scoped>\n",
       "    .dataframe tbody tr th:only-of-type {\n",
       "        vertical-align: middle;\n",
       "    }\n",
       "\n",
       "    .dataframe tbody tr th {\n",
       "        vertical-align: top;\n",
       "    }\n",
       "\n",
       "    .dataframe thead th {\n",
       "        text-align: right;\n",
       "    }\n",
       "</style>\n",
       "<table border=\"1\" class=\"dataframe\">\n",
       "  <thead>\n",
       "    <tr style=\"text-align: right;\">\n",
       "      <th></th>\n",
       "      <th>ID</th>\n",
       "      <th>PERIODO</th>\n",
       "      <th>ESTU_PRGM_ACADEMICO</th>\n",
       "      <th>ESTU_PRGM_DEPARTAMENTO</th>\n",
       "      <th>ESTU_VALORMATRICULAUNIVERSIDAD</th>\n",
       "      <th>ESTU_HORASSEMANATRABAJA</th>\n",
       "      <th>FAMI_ESTRATOVIVIENDA</th>\n",
       "      <th>FAMI_TIENEINTERNET</th>\n",
       "      <th>FAMI_EDUCACIONPADRE</th>\n",
       "      <th>FAMI_TIENELAVADORA</th>\n",
       "      <th>...</th>\n",
       "      <th>ESTU_PRIVADO_LIBERTAD</th>\n",
       "      <th>ESTU_PAGOMATRICULAPROPIO</th>\n",
       "      <th>FAMI_TIENECOMPUTADOR</th>\n",
       "      <th>FAMI_TIENEINTERNET.1</th>\n",
       "      <th>FAMI_EDUCACIONMADRE</th>\n",
       "      <th>RENDIMIENTO_GLOBAL</th>\n",
       "      <th>coef_1</th>\n",
       "      <th>coef_2</th>\n",
       "      <th>coef_3</th>\n",
       "      <th>coef_4</th>\n",
       "    </tr>\n",
       "  </thead>\n",
       "  <tbody>\n",
       "    <tr>\n",
       "      <th>0</th>\n",
       "      <td>904256</td>\n",
       "      <td>20212</td>\n",
       "      <td>ENFERMERIA</td>\n",
       "      <td>BOGOTÁ</td>\n",
       "      <td>Entre 5.5 millones y menos de 7 millones</td>\n",
       "      <td>Menos de 10 horas</td>\n",
       "      <td>Estrato 3</td>\n",
       "      <td>Si</td>\n",
       "      <td>Técnica o tecnológica incompleta</td>\n",
       "      <td>Si</td>\n",
       "      <td>...</td>\n",
       "      <td>N</td>\n",
       "      <td>No</td>\n",
       "      <td>Si</td>\n",
       "      <td>Si</td>\n",
       "      <td>Postgrado</td>\n",
       "      <td>medio-alto</td>\n",
       "      <td>0.322</td>\n",
       "      <td>0.208</td>\n",
       "      <td>0.310</td>\n",
       "      <td>0.267</td>\n",
       "    </tr>\n",
       "    <tr>\n",
       "      <th>1</th>\n",
       "      <td>645256</td>\n",
       "      <td>20212</td>\n",
       "      <td>DERECHO</td>\n",
       "      <td>ATLANTICO</td>\n",
       "      <td>Entre 2.5 millones y menos de 4 millones</td>\n",
       "      <td>0</td>\n",
       "      <td>Estrato 3</td>\n",
       "      <td>No</td>\n",
       "      <td>Técnica o tecnológica completa</td>\n",
       "      <td>Si</td>\n",
       "      <td>...</td>\n",
       "      <td>N</td>\n",
       "      <td>No</td>\n",
       "      <td>Si</td>\n",
       "      <td>No</td>\n",
       "      <td>Técnica o tecnológica incompleta</td>\n",
       "      <td>bajo</td>\n",
       "      <td>0.311</td>\n",
       "      <td>0.215</td>\n",
       "      <td>0.292</td>\n",
       "      <td>0.264</td>\n",
       "    </tr>\n",
       "    <tr>\n",
       "      <th>2</th>\n",
       "      <td>308367</td>\n",
       "      <td>20203</td>\n",
       "      <td>MERCADEO Y PUBLICIDAD</td>\n",
       "      <td>BOGOTÁ</td>\n",
       "      <td>Entre 2.5 millones y menos de 4 millones</td>\n",
       "      <td>Más de 30 horas</td>\n",
       "      <td>Estrato 3</td>\n",
       "      <td>Si</td>\n",
       "      <td>Secundaria (Bachillerato) completa</td>\n",
       "      <td>Si</td>\n",
       "      <td>...</td>\n",
       "      <td>N</td>\n",
       "      <td>No</td>\n",
       "      <td>No</td>\n",
       "      <td>Si</td>\n",
       "      <td>Secundaria (Bachillerato) completa</td>\n",
       "      <td>bajo</td>\n",
       "      <td>0.297</td>\n",
       "      <td>0.214</td>\n",
       "      <td>0.305</td>\n",
       "      <td>0.264</td>\n",
       "    </tr>\n",
       "    <tr>\n",
       "      <th>3</th>\n",
       "      <td>470353</td>\n",
       "      <td>20195</td>\n",
       "      <td>ADMINISTRACION DE EMPRESAS</td>\n",
       "      <td>SANTANDER</td>\n",
       "      <td>Entre 4 millones y menos de 5.5 millones</td>\n",
       "      <td>0</td>\n",
       "      <td>Estrato 4</td>\n",
       "      <td>Si</td>\n",
       "      <td>No sabe</td>\n",
       "      <td>Si</td>\n",
       "      <td>...</td>\n",
       "      <td>N</td>\n",
       "      <td>No</td>\n",
       "      <td>Si</td>\n",
       "      <td>Si</td>\n",
       "      <td>Secundaria (Bachillerato) completa</td>\n",
       "      <td>alto</td>\n",
       "      <td>0.485</td>\n",
       "      <td>0.172</td>\n",
       "      <td>0.252</td>\n",
       "      <td>0.190</td>\n",
       "    </tr>\n",
       "    <tr>\n",
       "      <th>4</th>\n",
       "      <td>989032</td>\n",
       "      <td>20212</td>\n",
       "      <td>PSICOLOGIA</td>\n",
       "      <td>ANTIOQUIA</td>\n",
       "      <td>Entre 2.5 millones y menos de 4 millones</td>\n",
       "      <td>Entre 21 y 30 horas</td>\n",
       "      <td>Estrato 3</td>\n",
       "      <td>Si</td>\n",
       "      <td>Primaria completa</td>\n",
       "      <td>Si</td>\n",
       "      <td>...</td>\n",
       "      <td>N</td>\n",
       "      <td>No</td>\n",
       "      <td>Si</td>\n",
       "      <td>Si</td>\n",
       "      <td>Primaria completa</td>\n",
       "      <td>medio-bajo</td>\n",
       "      <td>0.316</td>\n",
       "      <td>0.232</td>\n",
       "      <td>0.285</td>\n",
       "      <td>0.294</td>\n",
       "    </tr>\n",
       "  </tbody>\n",
       "</table>\n",
       "<p>5 rows × 21 columns</p>\n",
       "</div>"
      ],
      "text/plain": [
       "       ID  PERIODO         ESTU_PRGM_ACADEMICO ESTU_PRGM_DEPARTAMENTO  \\\n",
       "0  904256    20212                  ENFERMERIA                 BOGOTÁ   \n",
       "1  645256    20212                     DERECHO              ATLANTICO   \n",
       "2  308367    20203       MERCADEO Y PUBLICIDAD                 BOGOTÁ   \n",
       "3  470353    20195  ADMINISTRACION DE EMPRESAS              SANTANDER   \n",
       "4  989032    20212                  PSICOLOGIA              ANTIOQUIA   \n",
       "\n",
       "             ESTU_VALORMATRICULAUNIVERSIDAD ESTU_HORASSEMANATRABAJA  \\\n",
       "0  Entre 5.5 millones y menos de 7 millones       Menos de 10 horas   \n",
       "1  Entre 2.5 millones y menos de 4 millones                       0   \n",
       "2  Entre 2.5 millones y menos de 4 millones         Más de 30 horas   \n",
       "3  Entre 4 millones y menos de 5.5 millones                       0   \n",
       "4  Entre 2.5 millones y menos de 4 millones     Entre 21 y 30 horas   \n",
       "\n",
       "  FAMI_ESTRATOVIVIENDA FAMI_TIENEINTERNET                 FAMI_EDUCACIONPADRE  \\\n",
       "0            Estrato 3                 Si    Técnica o tecnológica incompleta   \n",
       "1            Estrato 3                 No      Técnica o tecnológica completa   \n",
       "2            Estrato 3                 Si  Secundaria (Bachillerato) completa   \n",
       "3            Estrato 4                 Si                             No sabe   \n",
       "4            Estrato 3                 Si                   Primaria completa   \n",
       "\n",
       "  FAMI_TIENELAVADORA  ... ESTU_PRIVADO_LIBERTAD ESTU_PAGOMATRICULAPROPIO  \\\n",
       "0                 Si  ...                     N                       No   \n",
       "1                 Si  ...                     N                       No   \n",
       "2                 Si  ...                     N                       No   \n",
       "3                 Si  ...                     N                       No   \n",
       "4                 Si  ...                     N                       No   \n",
       "\n",
       "  FAMI_TIENECOMPUTADOR FAMI_TIENEINTERNET.1  \\\n",
       "0                   Si                   Si   \n",
       "1                   Si                   No   \n",
       "2                   No                   Si   \n",
       "3                   Si                   Si   \n",
       "4                   Si                   Si   \n",
       "\n",
       "                  FAMI_EDUCACIONMADRE RENDIMIENTO_GLOBAL coef_1  coef_2  \\\n",
       "0                           Postgrado         medio-alto  0.322   0.208   \n",
       "1    Técnica o tecnológica incompleta               bajo  0.311   0.215   \n",
       "2  Secundaria (Bachillerato) completa               bajo  0.297   0.214   \n",
       "3  Secundaria (Bachillerato) completa               alto  0.485   0.172   \n",
       "4                   Primaria completa         medio-bajo  0.316   0.232   \n",
       "\n",
       "   coef_3  coef_4  \n",
       "0   0.310   0.267  \n",
       "1   0.292   0.264  \n",
       "2   0.305   0.264  \n",
       "3   0.252   0.190  \n",
       "4   0.285   0.294  \n",
       "\n",
       "[5 rows x 21 columns]"
      ]
     },
     "execution_count": 2,
     "metadata": {},
     "output_type": "execute_result"
    }
   ],
   "source": [
    "# os.environ[\"KAGGLE_CONFIG_DIR\"] = \".\"\n",
    "# !kaggle competitions download -c udea-ai-4-eng-20251-pruebas-saber-pro-colombia\n",
    "# !unzip udea-ai-4-eng-20251-pruebas-saber-pro-colombia.zip\n",
    "df = pd.read_csv(\"train.csv\")\n",
    "df.head()"
   ]
  },
  {
   "cell_type": "markdown",
   "metadata": {
    "id": "2_n053tlnC1k"
   },
   "source": [
    "##Creación de la funcion para limpiar el dataframe"
   ]
  },
  {
   "cell_type": "code",
   "execution_count": null,
   "metadata": {
    "id": "Z0MlNomu58OT"
   },
   "outputs": [],
   "source": [
    "def one_hot_encode_column(df, column_name): #Función para crear One Hot\n",
    "  df = df.fillna(method='ffill') #Este método rellena los valores faltantes en la columna, utilizando el último valor válido hacia adelante para rellenar los valores faltantes.\n",
    "  unique_values = df[column_name].unique() # Se obtenien valores únicos en la columna\n",
    "  for value in unique_values: # Se crean columnas one-hot para cada valor único\n",
    "      df[column_name + '_' + str(value)] = (df[column_name] == value).astype(int)\n",
    "  del df[column_name]\n",
    "  return df\n",
    "\n",
    "def obtener_valor_medio(rango): #Función para convertir valores string a int, luego sacar el valor medio de la columna\n",
    "  if isinstance(rango, str):  #Verifica si el argumento dado es una cadena de texto(string)\n",
    "      numeros = [int(num) for num in rango.split() if num.isdigit()] #Divide la cadena rango en palabras y crea una lista de números enteros (int) a partir de cada palabra que sea un número filtrando con if num.isdigit() filtra solo las palabras que son números.\n",
    "      return sum(numeros) / len(numeros) #Devuelve el promedio de los números\n",
    "  else:\n",
    "      return float('nan')  #Devuelve un valor nan en caso de que no sea una cadena de texto\n",
    "\n",
    "def obtener_valor_medio2(rango): #Función para convertir valores string a int, luego sacar el valor medio de la columna considerando los casos especiales\n",
    "  if isinstance(rango, str): #Verifica si el argumento dado es una cadena de texto(string)\n",
    "      # Reemplazar datos específicas por los valores correspondientes para los casos especiales\n",
    "      rango = rango.replace(\"No pagó matrícula\", \"0\")\n",
    "      rango = rango.replace(\"Menos de 500 mil\", \"0.5\")\n",
    "      rango = rango.replace(\"Entre 500 mil y menos de 1 millón\", \"0.75\")\n",
    "      # Utilizar expresiones regulares para encontrar números decimales en la cadena\n",
    "      numeros = re.findall(r\"\\d+\\.\\d+|\\d+\", rango) #Utiliza expresiones regulares \\d+\\.\\d+|\\d+ para buscar patrones de números con o sin decimales\n",
    "      # Convertir los números a flotantes y calcular la media\n",
    "      numeros = [float(num) for num in numeros] #Convierte los números encontrados a números flotantes (float).\n",
    "      if numeros:\n",
    "          return sum(numeros) / len(numeros) #Si en la lista hay numeros, devuelve el promedio de los números en la lista\n",
    "      else:\n",
    "          return float('nan') #Devuelve un valor nan en caso de que no sea un número\n",
    "  else:\n",
    "      return float('nan') #Devuelve un valor nan en caso de que no sea una cadena de texto\n",
    "\n",
    "def normalize_text(text): #Funcion para eliminar tildes y caracteres especiales\n",
    "    text = ''.join(c for c in unicodedata.normalize('NFD', text) if unicodedata.category(c) != 'Mn')\n",
    "    text = text.lower().strip()  # Convertir a minúsculas y eliminar espacios en blanco\n",
    "    text = text.replace('-', ' ').replace('  ', ' ').replace(\".\",\"\")  # Reemplazar guiones por espacios y eliminar espacios dobles\n",
    "    return text\n",
    "\n",
    "def Limpieza(df): #Funcion que encapsula las otras funciones para hacer una limpieza o preprocesado completo al Dataframe\n",
    "    df.drop(columns=['FAMI_TIENEINTERNET.1', 'FAMI_TIENELAVADORA', 'FAMI_TIENEAUTOMOVIL', 'ESTU_PAGOMATRICULAPROPIO'], inplace=True) #Se eliminan columnas que se consideran no son de utilidad\n",
    "\n",
    "    #Se aplican las funciones a las columnas\n",
    "    df['ESTU_HORASSEMANATRABAJA'] = df['ESTU_HORASSEMANATRABAJA'].apply(obtener_valor_medio)\n",
    "    df['ESTU_HORASSEMANATRABAJA'] = df['ESTU_HORASSEMANATRABAJA'].fillna(df['ESTU_HORASSEMANATRABAJA'].median())\n",
    "\n",
    "    df[\"ESTU_VALORMATRICULAUNIVERSIDAD\"] = df[\"ESTU_VALORMATRICULAUNIVERSIDAD\"].apply(obtener_valor_medio2)\n",
    "    df['ESTU_VALORMATRICULAUNIVERSIDAD'] = df['ESTU_VALORMATRICULAUNIVERSIDAD'].fillna(df['ESTU_VALORMATRICULAUNIVERSIDAD'].median())\n",
    "\n",
    "    df[\"FAMI_ESTRATOVIVIENDA\"] = df[\"FAMI_ESTRATOVIVIENDA\"].apply(obtener_valor_medio2)\n",
    "    df['FAMI_ESTRATOVIVIENDA'] = df['FAMI_ESTRATOVIVIENDA'].fillna(df['FAMI_ESTRATOVIVIENDA'].median())\n",
    "\n",
    "    df = one_hot_encode_column(df, 'FAMI_TIENEINTERNET')\n",
    "    df = one_hot_encode_column(df, 'FAMI_EDUCACIONPADRE')\n",
    "    df = one_hot_encode_column(df, 'FAMI_TIENECOMPUTADOR')\n",
    "    df = one_hot_encode_column(df, 'FAMI_EDUCACIONMADRE')\n",
    "    df = one_hot_encode_column(df, 'ESTU_PRGM_DEPARTAMENTO')\n",
    "\n",
    "    df['ESTU_PRIVADO_LIBERTAD'] = df['ESTU_PRIVADO_LIBERTAD'].replace({'N': 'No', 'S': 'Si'})\n",
    "    df = one_hot_encode_column(df, 'ESTU_PRIVADO_LIBERTAD')\n",
    "\n",
    "    df['ESTU_PRGM_ACADEMICO'] = df['ESTU_PRGM_ACADEMICO'].apply(normalize_text)\n",
    "\n",
    "    #Se realiza una limpieza manual a la columna de programas para los datos que tienen simbolos dificiles de estandarizar en una función\n",
    "    replacements = {\n",
    "        'administraci¿n de empresas': 'administracion de empresas',\n",
    "        'ingenier¿a en software': 'ingenieria en software',\n",
    "        'administraci¿n log¿stica': 'administracion logistica',\n",
    "        'licenciatura en educaci¿n art¿stica': 'licenciatura en educacion artistica',\n",
    "        'licenciatura en pedagog¿a infantil': 'licenciatura en pedagogia infantil',\n",
    "        'dise¿¿o de comunicaci¿¿n gr¿¿fica': 'diseno de comunicacion grafica',\n",
    "        'geolog¿a': 'geologia',\n",
    "        'ingenier¿a de sistemas': 'ingenieria de sistemas',\n",
    "        'licenciatura en educaci¿n b¿sica primaria': 'licenciatura en educacion basica primaria',\n",
    "        'profesional en gastronom¿a': 'profesional en gastronomia',\n",
    "        'econom¿a': 'economia',\n",
    "        'comunicaci¿n social y periodismo': 'comunicacion social y periodismo',\n",
    "        'contaduria p¿blica': 'contaduria publica',\n",
    "        'licenciatura en educaci¿n con ¿nfasis en ciencias sociales y ambientales': 'licenciatura en educacion con enfasis en ciencias sociales y ambientales',\n",
    "        'licenciatura m¿sica': 'licenciatura musica',\n",
    "        'gesti¿n deportiva': 'gestion deportiva',\n",
    "        'licenciatura en lenguas extranjeras con ¿nfasis en ingl¿s': 'licenciatura en lenguas extranjeras con enfasis en ingles',\n",
    "        'dise¿o y administraci¿n de negocios de la moda': 'diseno y administracion de negocios de la moda',\n",
    "        'licenciatura en educaci¿n infantil': 'licenciatura en educacion infantil',\n",
    "        'comunicaci¿n social': 'comunicacion social',\n",
    "        'administraci¿n p¿blica': 'administracion publica',\n",
    "        'qu¿mica farmac¿utica': 'quimica farmaceutica',\n",
    "        'ingenier¿a el¿ctrica': 'ingenieria electrica',\n",
    "        'comunicaci¿n visual': 'comunicacion visual',\n",
    "        'ingenier¿a industrial': 'ingenieria industrial',\n",
    "        'dise¿o crossmedia': 'diseno crossmedia',\n",
    "        'licenciatura en filosof¿a y humanidades': 'licenciatura en filosofia y humanidades',\n",
    "        'licenciatura en educaci¿n f¿sica recreaci¿n y deportes': 'licenciatura en educacion fisica recreacion y deportes',\n",
    "        'licenciatura en artes esc¿nicas': 'licenciatura en artes escenicas',\n",
    "        'licenciatura en matem¿ticas': 'licenciatura en matematicas'\n",
    "    }\n",
    "\n",
    "    for original, replacement in replacements.items():\n",
    "        df['ESTU_PRGM_ACADEMICO'] = df['ESTU_PRGM_ACADEMICO'].str.replace(original, replacement)\n",
    "\n",
    "    df = one_hot_encode_column(df, 'ESTU_PRGM_ACADEMICO')\n",
    "\n",
    "    return df"
   ]
  },
  {
   "cell_type": "code",
   "execution_count": null,
   "metadata": {
    "id": "WkO26M5dhnnK"
   },
   "outputs": [],
   "source": []
  },
  {
   "cell_type": "markdown",
   "metadata": {
    "id": "kUzAhhP-nXUR"
   },
   "source": [
    "##Se importan los archivos de train y test de kaggle que se usaran"
   ]
  },
  {
   "cell_type": "code",
   "execution_count": null,
   "metadata": {
    "colab": {
     "base_uri": "https://localhost:8080/"
    },
    "executionInfo": {
     "elapsed": 3380,
     "status": "ok",
     "timestamp": 1717257544742,
     "user": {
      "displayName": "CRISTIAN FLOREZ CALDERON",
      "userId": "14203897282492324183"
     },
     "user_tz": 300
    },
    "id": "d2y6dmlB5_wc",
    "outputId": "9eb03018-6114-4dba-d3ec-52a815caaf81"
   },
   "outputs": [
    {
     "data": {
      "text/plain": [
       "((692500, 17), (296786, 16))"
      ]
     },
     "execution_count": 5,
     "metadata": {},
     "output_type": "execute_result"
    }
   ],
   "source": [
    "dtr = pd.read_csv(\"train.csv\")\n",
    "dts = pd.read_csv(\"test.csv\")\n",
    "lentr = len(dtr)\n",
    "dtr.shape, dts.shape"
   ]
  },
  {
   "cell_type": "markdown",
   "metadata": {
    "id": "kDoq3GUjnhob"
   },
   "source": [
    "##Se realiza la divición de los datos que se usaran para entrenar y para probar"
   ]
  },
  {
   "cell_type": "code",
   "execution_count": null,
   "metadata": {
    "colab": {
     "base_uri": "https://localhost:8080/"
    },
    "executionInfo": {
     "elapsed": 17754,
     "status": "ok",
     "timestamp": 1717257564134,
     "user": {
      "displayName": "CRISTIAN FLOREZ CALDERON",
      "userId": "14203897282492324183"
     },
     "user_tz": 300
    },
    "id": "di5ZaU2knfFc",
    "outputId": "acfe1633-5866-4919-ba14-9f560da30399"
   },
   "outputs": [
    {
     "name": "stdout",
     "output_type": "stream",
     "text": [
      "(692500, 66) (692500,)\n",
      "(296786, 66)\n"
     ]
    }
   ],
   "source": [
    "source_cols = [i for i in dtr.columns if i!=\"RENDIMIENTO_GLOBAL\"]\n",
    "all_data = pd.concat((dtr[source_cols], dts[source_cols]))\n",
    "all_data.index = range(len(all_data))\n",
    "all_data = Limpieza(all_data)\n",
    "\n",
    "Xtr, ytr = all_data.iloc[:lentr].values, dtr[\"RENDIMIENTO_GLOBAL\"].values\n",
    "Xts      = all_data.iloc[lentr:].values\n",
    "\n",
    "print (Xtr.shape, ytr.shape)\n",
    "print (Xts.shape)"
   ]
  },
  {
   "cell_type": "code",
   "execution_count": null,
   "metadata": {
    "colab": {
     "base_uri": "https://localhost:8080/"
    },
    "executionInfo": {
     "elapsed": 333,
     "status": "ok",
     "timestamp": 1717257596712,
     "user": {
      "displayName": "CRISTIAN FLOREZ CALDERON",
      "userId": "14203897282492324183"
     },
     "user_tz": 300
    },
    "id": "YxJz3PxYno6z",
    "outputId": "6fc603f9-929e-465e-9b95-4ab25fb6de88"
   },
   "outputs": [
    {
     "data": {
      "text/plain": [
       "484749"
      ]
     },
     "execution_count": 7,
     "metadata": {},
     "output_type": "execute_result"
    }
   ],
   "source": [
    "n=int(len(Xtr)*0.7)\n",
    "n"
   ]
  },
  {
   "cell_type": "code",
   "execution_count": null,
   "metadata": {
    "colab": {
     "base_uri": "https://localhost:8080/"
    },
    "executionInfo": {
     "elapsed": 881,
     "status": "ok",
     "timestamp": 1717257598830,
     "user": {
      "displayName": "CRISTIAN FLOREZ CALDERON",
      "userId": "14203897282492324183"
     },
     "user_tz": 300
    },
    "id": "MfBzPayAnq1T",
    "outputId": "b521a6aa-104c-4f80-d822-75d6f504e1e6"
   },
   "outputs": [
    {
     "data": {
      "text/plain": [
       "((484749, 66), (484749,), (207751, 66), (207751,))"
      ]
     },
     "execution_count": 8,
     "metadata": {},
     "output_type": "execute_result"
    }
   ],
   "source": [
    "idxs=np.random.permutation(len(Xtr))\n",
    "idxs_trm=idxs[:n]\n",
    "idxs_tsm=idxs[n:]\n",
    "\n",
    "xtrm=Xtr[idxs_trm]\n",
    "ytrm=ytr[idxs_trm]\n",
    "\n",
    "xtsm=Xtr[idxs_tsm]\n",
    "ytsm=ytr[idxs_tsm]\n",
    "\n",
    "xtrm.shape, ytrm.shape, xtsm.shape,ytsm.shape"
   ]
  },
  {
   "cell_type": "markdown",
   "metadata": {
    "id": "SWE9JLn5n8E4"
   },
   "source": [
    "##Se inicia el codigo para entrenamiento"
   ]
  },
  {
   "cell_type": "code",
   "execution_count": null,
   "metadata": {
    "id": "0NoMXiOmn83R"
   },
   "outputs": [],
   "source": [
    "#lgbm_clf = LGBMClassifier(\n",
    "#    n_estimators=200,\n",
    "#    learning_rate=0.1,\n",
    "#    max_depth=-1,\n",
    "#    num_leaves=31,\n",
    "#    min_child_samples=20,\n",
    "#    random_state=42\n",
    "#)\n",
    "#lgbm_clf.fit(xtrm, ytrm)\n",
    "#y_pred_lgbm = lgbm_clf.predict(xtsm)\n",
    "#accuracy_lgbm = accuracy_score(ytsm, y_pred_lgbm)\n",
    "#print(f'LightGBM Accuracy: {accuracy_lgbm:.2f}')\n",
    "\n"
   ]
  },
  {
   "cell_type": "code",
   "execution_count": null,
   "metadata": {
    "id": "HyxB5OSsi0xk"
   },
   "outputs": [],
   "source": [
    "lgbm_clf = LGBMClassifier(max_depth=-1)\n",
    "lgbm_clf.fit(xtrm, ytrm)\n",
    "y_pred_lgbm = lgbm_clf.predict(xtsm)\n",
    "accuracy_lgbm = accuracy_score(ytsm, y_pred_lgbm)\n",
    "print(f'LightGBM Accuracy: {accuracy_lgbm:.2f}')\n",
    "\n"
   ]
  },
  {
   "cell_type": "code",
   "execution_count": null,
   "metadata": {
    "colab": {
     "base_uri": "https://localhost:8080/"
    },
    "executionInfo": {
     "elapsed": 23329,
     "status": "ok",
     "timestamp": 1717257779562,
     "user": {
      "displayName": "CRISTIAN FLOREZ CALDERON",
      "userId": "14203897282492324183"
     },
     "user_tz": 300
    },
    "id": "54cEBeh1oPXa",
    "outputId": "9c981927-7801-46ed-923c-0f5b20ff7eae"
   },
   "outputs": [
    {
     "name": "stdout",
     "output_type": "stream",
     "text": [
      "Archivo de predicciones para LightGBM generado: archivo_lgbm.csv\n"
     ]
    }
   ],
   "source": [
    "# Predicciones y generación de archivo\n",
    "preds_lgbm_tsk = lgbm_clf.predict(Xts)\n",
    "submission_lgbm = dts[[\"ID\"]].copy()\n",
    "submission_lgbm[\"RENDIMIENTO_GLOBAL\"] = preds_lgbm_tsk\n",
    "submission_lgbm.to_csv(\"archivo_lgbm.csv\", index=False)\n",
    "print(\"Archivo de predicciones para LightGBM generado: archivo_lgbm.csv\")"
   ]
  }
 ],
 "metadata": {
  "colab": {
   "provenance": [
    {
     "file_id": "1Kw0LqBWryoUD5p8xvB5FI0PuOwiri1wI",
     "timestamp": 1717125071069
    },
    {
     "file_id": "1mPC3Mo1eBbs2JbXtMNo0MkXcX1vp_Kcz",
     "timestamp": 1717124971682
    }
   ]
  },
  "kernelspec": {
   "display_name": "Python 3",
   "name": "python3"
  },
  "language_info": {
   "codemirror_mode": {
    "name": "ipython",
    "version": 3
   },
   "file_extension": ".py",
   "mimetype": "text/x-python",
   "name": "python",
   "nbconvert_exporter": "python",
   "pygments_lexer": "ipython3",
   "version": "3.13.5"
  }
 },
 "nbformat": 4,
 "nbformat_minor": 0
}
